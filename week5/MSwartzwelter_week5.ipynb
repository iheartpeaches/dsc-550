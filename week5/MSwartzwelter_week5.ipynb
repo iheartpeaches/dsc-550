{
 "cells": [
  {
   "cell_type": "markdown",
   "id": "b5d60f8e",
   "metadata": {},
   "source": [
    "<center>Myranda Swartzwelter<br>\n",
    "    DSC-550 T301 Data Mining<br>\n",
    "    Week 5 Assignment: Classification Models and Clustering<br>\n",
    " 4/13/22\n",
    "   "
   ]
  },
  {
   "cell_type": "markdown",
   "id": "c07f2834",
   "metadata": {},
   "source": [
    "Get the stemmed data using the same process you did in Week 3."
   ]
  },
  {
   "cell_type": "code",
   "execution_count": 3,
   "id": "a884329f",
   "metadata": {},
   "outputs": [],
   "source": [
    "#import necessary packages\n",
    "import pandas as pd\n",
    "import numpy as np\n",
    "from textblob import TextBlob "
   ]
  },
  {
   "cell_type": "code",
   "execution_count": 4,
   "id": "d1855949",
   "metadata": {},
   "outputs": [
    {
     "name": "stdout",
     "output_type": "stream",
     "text": [
      "<class 'pandas.core.frame.DataFrame'>\n",
      "RangeIndex: 25000 entries, 0 to 24999\n",
      "Data columns (total 3 columns):\n",
      " #   Column     Non-Null Count  Dtype \n",
      "---  ------     --------------  ----- \n",
      " 0   id         25000 non-null  object\n",
      " 1   sentiment  25000 non-null  int64 \n",
      " 2   review     25000 non-null  object\n",
      "dtypes: int64(1), object(2)\n",
      "memory usage: 586.1+ KB\n"
     ]
    }
   ],
   "source": [
    "#import file note it is a tsv\n",
    "reviews_train = pd.read_csv('labeledTrainData.tsv', sep='\\t')\n",
    "\n",
    "#create an array to list the sentiments we generate\n",
    "sentiments = []\n",
    "\n",
    "#iterate through dataframe and get the polarity for each review\n",
    "for index, row in reviews_train.iterrows():\n",
    "    blob = TextBlob(row['review'])\n",
    "    polarity = blob.sentiment.polarity\n",
    "    \n",
    "    #if the polarity score >= 0 this is a positive sentiment and <0 is a negative sentiment\n",
    "    if polarity < 0:\n",
    "        sentiment = 0\n",
    "    else:\n",
    "        sentiment = 1\n",
    "    #add sentiment to list\n",
    "    sentiments.append(sentiment)\n",
    "\n",
    "#create a new colum with the modeled sentiments\n",
    "reviews_train['modeled_sentiments'] = sentiments\n",
    "reviews_train.head()"
   ]
  },
  {
   "cell_type": "code",
   "execution_count": null,
   "id": "d8722730",
   "metadata": {},
   "outputs": [],
   "source": [
    "Split this into a training and test set. Fit and apply the tf-idf vectorization to the training set. Apply but DO NOT FIT the tf-idf vectorization to the test set (Why?). Train a logistic regression using the training data. Find the model accuracy on test set. Create a confusion matrix for the test set predictions. Get the precision, recall, and F1-score for the test set predictions. Create a ROC curve for the test set. Pick another classification model you learned about this week and repeat steps (5) – (9)."
   ]
  }
 ],
 "metadata": {
  "kernelspec": {
   "display_name": "Python 3 (ipykernel)",
   "language": "python",
   "name": "python3"
  },
  "language_info": {
   "codemirror_mode": {
    "name": "ipython",
    "version": 3
   },
   "file_extension": ".py",
   "mimetype": "text/x-python",
   "name": "python",
   "nbconvert_exporter": "python",
   "pygments_lexer": "ipython3",
   "version": "3.9.7"
  }
 },
 "nbformat": 4,
 "nbformat_minor": 5
}
