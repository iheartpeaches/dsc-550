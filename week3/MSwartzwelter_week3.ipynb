{
 "cells": [
  {
   "cell_type": "markdown",
   "id": "7b458f1e",
   "metadata": {},
   "source": [
    "<center>Myranda Swartzwelter<br>\n",
    "    DSC-550 T301 Data Mining<br>\n",
    "    Week 3 Assignment: NLP<br>\n",
    " 3/29/22\n",
    "   "
   ]
  },
  {
   "cell_type": "markdown",
   "id": "0e4aa2d0",
   "metadata": {},
   "source": [
    "1. Import the movie review data as a data frame and ensure that the data is loaded properly."
   ]
  },
  {
   "cell_type": "code",
   "execution_count": 3,
   "id": "8c31be2b",
   "metadata": {},
   "outputs": [],
   "source": [
    "#import necessary packages\n",
    "import pandas as pd\n",
    "import numpy as np\n",
    "from textblob import TextBlob "
   ]
  },
  {
   "cell_type": "code",
   "execution_count": 8,
   "id": "c2be2d77",
   "metadata": {},
   "outputs": [
    {
     "name": "stdout",
     "output_type": "stream",
     "text": [
      "<class 'pandas.core.frame.DataFrame'>\n",
      "RangeIndex: 25000 entries, 0 to 24999\n",
      "Data columns (total 3 columns):\n",
      " #   Column     Non-Null Count  Dtype \n",
      "---  ------     --------------  ----- \n",
      " 0   id         25000 non-null  object\n",
      " 1   sentiment  25000 non-null  int64 \n",
      " 2   review     25000 non-null  object\n",
      "dtypes: int64(1), object(2)\n",
      "memory usage: 586.1+ KB\n"
     ]
    }
   ],
   "source": [
    "#import file note it is a tsv\n",
    "reviews_train = pd.read_csv('labeledTrainData.tsv', sep='\\t')\n",
    "\n",
    "#confirm that data is properly loaded - should have 25000 rows and looking at the first few rows should show ID, sentiment and review\n",
    "reviews_train.head()\n",
    "reviews_train.info()"
   ]
  },
  {
   "cell_type": "markdown",
   "id": "f9c0f1e0",
   "metadata": {},
   "source": [
    "2. How many of each positive and negative reviews are there?"
   ]
  },
  {
   "cell_type": "code",
   "execution_count": 14,
   "id": "0750c15b",
   "metadata": {},
   "outputs": [
    {
     "data": {
      "text/plain": [
       "sentiment\n",
       "0    12500\n",
       "1    12500\n",
       "Name: id, dtype: int64"
      ]
     },
     "execution_count": 14,
     "metadata": {},
     "output_type": "execute_result"
    }
   ],
   "source": [
    "#count the number of rows grouping by sentiment\n",
    "reviews_train.groupby(by='sentiment')['id'].count()\n",
    "\n",
    "#there are an equal number of positive and negative reviews - 12500 of each"
   ]
  },
  {
   "cell_type": "markdown",
   "id": "d42952b5",
   "metadata": {},
   "source": [
    "3. Use TextBlob to classify each movie review as positive or negative. Assume that a polarity score greater than or equal to zero is a positive sentiment and less than 0 is a negative sentiment.\n",
    "\n"
   ]
  },
  {
   "cell_type": "code",
   "execution_count": 25,
   "id": "f080b39f",
   "metadata": {},
   "outputs": [
    {
     "data": {
      "text/html": [
       "<div>\n",
       "<style scoped>\n",
       "    .dataframe tbody tr th:only-of-type {\n",
       "        vertical-align: middle;\n",
       "    }\n",
       "\n",
       "    .dataframe tbody tr th {\n",
       "        vertical-align: top;\n",
       "    }\n",
       "\n",
       "    .dataframe thead th {\n",
       "        text-align: right;\n",
       "    }\n",
       "</style>\n",
       "<table border=\"1\" class=\"dataframe\">\n",
       "  <thead>\n",
       "    <tr style=\"text-align: right;\">\n",
       "      <th></th>\n",
       "      <th>id</th>\n",
       "      <th>sentiment</th>\n",
       "      <th>review</th>\n",
       "      <th>modeled_sentiments</th>\n",
       "    </tr>\n",
       "  </thead>\n",
       "  <tbody>\n",
       "    <tr>\n",
       "      <th>0</th>\n",
       "      <td>5814_8</td>\n",
       "      <td>1</td>\n",
       "      <td>With all this stuff going down at the moment w...</td>\n",
       "      <td>1</td>\n",
       "    </tr>\n",
       "    <tr>\n",
       "      <th>1</th>\n",
       "      <td>2381_9</td>\n",
       "      <td>1</td>\n",
       "      <td>\\The Classic War of the Worlds\\\" by Timothy Hi...</td>\n",
       "      <td>1</td>\n",
       "    </tr>\n",
       "    <tr>\n",
       "      <th>2</th>\n",
       "      <td>7759_3</td>\n",
       "      <td>0</td>\n",
       "      <td>The film starts with a manager (Nicholas Bell)...</td>\n",
       "      <td>0</td>\n",
       "    </tr>\n",
       "    <tr>\n",
       "      <th>3</th>\n",
       "      <td>3630_4</td>\n",
       "      <td>0</td>\n",
       "      <td>It must be assumed that those who praised this...</td>\n",
       "      <td>1</td>\n",
       "    </tr>\n",
       "    <tr>\n",
       "      <th>4</th>\n",
       "      <td>9495_8</td>\n",
       "      <td>1</td>\n",
       "      <td>Superbly trashy and wondrously unpretentious 8...</td>\n",
       "      <td>0</td>\n",
       "    </tr>\n",
       "  </tbody>\n",
       "</table>\n",
       "</div>"
      ],
      "text/plain": [
       "       id  sentiment                                             review  \\\n",
       "0  5814_8          1  With all this stuff going down at the moment w...   \n",
       "1  2381_9          1  \\The Classic War of the Worlds\\\" by Timothy Hi...   \n",
       "2  7759_3          0  The film starts with a manager (Nicholas Bell)...   \n",
       "3  3630_4          0  It must be assumed that those who praised this...   \n",
       "4  9495_8          1  Superbly trashy and wondrously unpretentious 8...   \n",
       "\n",
       "   modeled_sentiments  \n",
       "0                   1  \n",
       "1                   1  \n",
       "2                   0  \n",
       "3                   1  \n",
       "4                   0  "
      ]
     },
     "execution_count": 25,
     "metadata": {},
     "output_type": "execute_result"
    }
   ],
   "source": [
    "#create an array to list the sentiments we generate\n",
    "sentiments = []\n",
    "\n",
    "#iterate through dataframe and get the polarity for each review\n",
    "for index, row in reviews_train.iterrows():\n",
    "    blob = TextBlob(row['review'])\n",
    "    polarity = blob.sentiment.polarity\n",
    "    \n",
    "    #if the polarity score >= 0 this is a positive sentiment and <0 is a negative sentiment\n",
    "    if polarity < 0:\n",
    "        sentiment = 0\n",
    "    else:\n",
    "        sentiment = 1\n",
    "    #add sentiment to list\n",
    "    sentiments.append(sentiment)\n",
    "\n",
    "#create a new colum with the modeled sentiments\n",
    "reviews_train['modeled_sentiments'] = sentiments\n",
    "reviews_train.head()"
   ]
  },
  {
   "cell_type": "markdown",
   "id": "eef4a366",
   "metadata": {},
   "source": [
    "4. Check the accuracy of this model. Is this model better than random guessing?"
   ]
  },
  {
   "cell_type": "code",
   "execution_count": 29,
   "id": "50838961",
   "metadata": {},
   "outputs": [
    {
     "name": "stdout",
     "output_type": "stream",
     "text": [
      "17131 25000 68.524\n"
     ]
    }
   ],
   "source": [
    "#create a new column for values that are correct\n",
    "reviews_train['correct'] = np.where(reviews_train['sentiment']== reviews_train['modeled_sentiments'], 1, 0)\n",
    "\n",
    "#count number of correct by model\n",
    "total_correct = reviews_train['correct'].sum()\n",
    "\n",
    "#number of reviews\n",
    "total = reviews_train['correct'].count()\n",
    "\n",
    "#calculate accuracy\n",
    "accuracy = total_correct / total *100\n",
    "print(total_correct, total, accuracy)"
   ]
  },
  {
   "cell_type": "markdown",
   "id": "6ddaefc7",
   "metadata": {},
   "source": [
    "5. For up to five points extra credit, use another prebuilt text sentiment analyzer, e.g., VADER, and repeat steps (3) and (4)."
   ]
  },
  {
   "cell_type": "code",
   "execution_count": 37,
   "id": "28117056",
   "metadata": {},
   "outputs": [
    {
     "data": {
      "text/html": [
       "<div>\n",
       "<style scoped>\n",
       "    .dataframe tbody tr th:only-of-type {\n",
       "        vertical-align: middle;\n",
       "    }\n",
       "\n",
       "    .dataframe tbody tr th {\n",
       "        vertical-align: top;\n",
       "    }\n",
       "\n",
       "    .dataframe thead th {\n",
       "        text-align: right;\n",
       "    }\n",
       "</style>\n",
       "<table border=\"1\" class=\"dataframe\">\n",
       "  <thead>\n",
       "    <tr style=\"text-align: right;\">\n",
       "      <th></th>\n",
       "      <th>id</th>\n",
       "      <th>sentiment</th>\n",
       "      <th>review</th>\n",
       "      <th>modeled_sentiments</th>\n",
       "      <th>correct</th>\n",
       "      <th>vader_sentiments</th>\n",
       "    </tr>\n",
       "  </thead>\n",
       "  <tbody>\n",
       "    <tr>\n",
       "      <th>0</th>\n",
       "      <td>5814_8</td>\n",
       "      <td>1</td>\n",
       "      <td>With all this stuff going down at the moment w...</td>\n",
       "      <td>1</td>\n",
       "      <td>1</td>\n",
       "      <td>0</td>\n",
       "    </tr>\n",
       "    <tr>\n",
       "      <th>1</th>\n",
       "      <td>2381_9</td>\n",
       "      <td>1</td>\n",
       "      <td>\\The Classic War of the Worlds\\\" by Timothy Hi...</td>\n",
       "      <td>1</td>\n",
       "      <td>1</td>\n",
       "      <td>1</td>\n",
       "    </tr>\n",
       "    <tr>\n",
       "      <th>2</th>\n",
       "      <td>7759_3</td>\n",
       "      <td>0</td>\n",
       "      <td>The film starts with a manager (Nicholas Bell)...</td>\n",
       "      <td>0</td>\n",
       "      <td>1</td>\n",
       "      <td>0</td>\n",
       "    </tr>\n",
       "    <tr>\n",
       "      <th>3</th>\n",
       "      <td>3630_4</td>\n",
       "      <td>0</td>\n",
       "      <td>It must be assumed that those who praised this...</td>\n",
       "      <td>1</td>\n",
       "      <td>0</td>\n",
       "      <td>0</td>\n",
       "    </tr>\n",
       "    <tr>\n",
       "      <th>4</th>\n",
       "      <td>9495_8</td>\n",
       "      <td>1</td>\n",
       "      <td>Superbly trashy and wondrously unpretentious 8...</td>\n",
       "      <td>0</td>\n",
       "      <td>0</td>\n",
       "      <td>1</td>\n",
       "    </tr>\n",
       "  </tbody>\n",
       "</table>\n",
       "</div>"
      ],
      "text/plain": [
       "       id  sentiment                                             review  \\\n",
       "0  5814_8          1  With all this stuff going down at the moment w...   \n",
       "1  2381_9          1  \\The Classic War of the Worlds\\\" by Timothy Hi...   \n",
       "2  7759_3          0  The film starts with a manager (Nicholas Bell)...   \n",
       "3  3630_4          0  It must be assumed that those who praised this...   \n",
       "4  9495_8          1  Superbly trashy and wondrously unpretentious 8...   \n",
       "\n",
       "   modeled_sentiments  correct  vader_sentiments  \n",
       "0                   1        1                 0  \n",
       "1                   1        1                 1  \n",
       "2                   0        1                 0  \n",
       "3                   1        0                 0  \n",
       "4                   0        0                 1  "
      ]
     },
     "execution_count": 37,
     "metadata": {},
     "output_type": "execute_result"
    }
   ],
   "source": [
    "from vaderSentiment.vaderSentiment import SentimentIntensityAnalyzer\n",
    "\n",
    "#create an array to list the sentiments we generate\n",
    "sentiments_vader = []\n",
    "sid_obj = SentimentIntensityAnalyzer()\n",
    "\n",
    "#iterate through dataframe and get the polarity for each review\n",
    "for index, row in reviews_train.iterrows():\n",
    "    review = row['review']\n",
    "    compound = sid_obj.polarity_scores(review)['compound']\n",
    "    \n",
    "    #if the polarity score >= 0 this is a positive sentiment and <0 is a negative sentiment\n",
    "    #Not accounting for neutral (compound = 0)\n",
    "    if compound < 0:\n",
    "        sentiment = 0\n",
    "    else:\n",
    "        sentiment = 1\n",
    "    #add sentiment to list\n",
    "    sentiments_vader.append(sentiment)\n",
    "\n",
    "#create a new colum with the modeled sentiments\n",
    "reviews_train['vader_sentiments'] = sentiments_vader\n",
    "reviews_train.head()"
   ]
  },
  {
   "cell_type": "code",
   "execution_count": 39,
   "id": "b76a2d90",
   "metadata": {},
   "outputs": [
    {
     "name": "stdout",
     "output_type": "stream",
     "text": [
      "17351 25000 69.404\n"
     ]
    }
   ],
   "source": [
    "#create a new column for values that are correct\n",
    "reviews_train['correct_vader'] = np.where(reviews_train['sentiment']== reviews_train['vader_sentiments'], 1, 0)\n",
    "\n",
    "#count number of correct by model\n",
    "total_correct = reviews_train['correct_vader'].sum()\n",
    "\n",
    "#number of reviews\n",
    "total = reviews_train['correct_vader'].count()\n",
    "\n",
    "#calculate accuracy\n",
    "accuracy = total_correct / total *100\n",
    "print(total_correct, total, accuracy)"
   ]
  }
 ],
 "metadata": {
  "kernelspec": {
   "display_name": "Python 3 (ipykernel)",
   "language": "python",
   "name": "python3"
  },
  "language_info": {
   "codemirror_mode": {
    "name": "ipython",
    "version": 3
   },
   "file_extension": ".py",
   "mimetype": "text/x-python",
   "name": "python",
   "nbconvert_exporter": "python",
   "pygments_lexer": "ipython3",
   "version": "3.9.7"
  }
 },
 "nbformat": 4,
 "nbformat_minor": 5
}
